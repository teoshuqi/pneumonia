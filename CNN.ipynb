{
 "cells": [
  {
   "cell_type": "markdown",
   "metadata": {
    "id": "HTk4o0cWp5ix"
   },
   "source": [
    "[Source](https://https://www.kaggle.com/paultimothymooney/chest-xray-pneumonia)"
   ]
  },
  {
   "cell_type": "code",
   "execution_count": null,
   "metadata": {
    "id": "1wX4ffAjPRO0"
   },
   "outputs": [],
   "source": [
    "import matplotlib.pyplot as plt\n",
    "import numpy as np\n",
    "import pandas as pd\n",
    "import cv2\n",
    "import os"
   ]
  },
  {
   "cell_type": "code",
   "execution_count": null,
   "metadata": {
    "id": "xmB8to2drAlt"
   },
   "outputs": [],
   "source": [
    "from sklearn import metrics\n",
    "import tensorflow as tf\n",
    "from tensorflow import keras\n",
    "from tensorflow.keras.layers import Input, Dense, Activation, Dropout, BatchNormalization\n",
    "from tensorflow.keras.models import Model\n",
    "from tensorflow.keras.layers.experimental import preprocessing"
   ]
  },
  {
   "cell_type": "code",
   "execution_count": null,
   "metadata": {
    "id": "nnJKLCqXPTNS"
   },
   "outputs": [],
   "source": [
    "# Mount google drive to have access to images\n",
    "from google.colab import drive\n",
    "drive.mount('/content/gdrive')"
   ]
  },
  {
   "cell_type": "markdown",
   "metadata": {
    "id": "g7T_iyv9rjfr"
   },
   "source": [
    "\n",
    "\n",
    "# **Deep Learning Machine Learning**\n",
    "\n"
   ]
  },
  {
   "cell_type": "code",
   "execution_count": null,
   "metadata": {
    "id": "ILlVkAuoHReG"
   },
   "outputs": [],
   "source": [
    "img_height = 224\n",
    "img_width = 224\n",
    "train_dir = '/content/gdrive/MyDrive/xray/chest_xray/train'\n",
    "test_dir = '/content/gdrive/MyDrive/xray/chest_xray/test'"
   ]
  },
  {
   "cell_type": "code",
   "execution_count": null,
   "metadata": {
    "colab": {
     "base_uri": "https://localhost:8080/"
    },
    "id": "y1Kz-UBNq6Wx",
    "outputId": "07a5291b-61e6-4635-8565-f67f99a7c223"
   },
   "outputs": [
    {
     "name": "stdout",
     "output_type": "stream",
     "text": [
      "Found 5232 files belonging to 2 classes.\n",
      "Using 4709 files for training.\n",
      "Found 5232 files belonging to 2 classes.\n",
      "Using 523 files for validation.\n",
      "Found 624 files belonging to 2 classes.\n"
     ]
    }
   ],
   "source": [
    "# Read IMAGES\n",
    "train_ds = tf.keras.preprocessing.image_dataset_from_directory(\n",
    "  train_dir,\n",
    "  validation_split=0.1,\n",
    "  subset=\"training\",\n",
    "  seed=42,\n",
    "  image_size=(img_height, img_width),\n",
    "  batch_size=128)\n",
    "val_ds = tf.keras.preprocessing.image_dataset_from_directory(\n",
    "  train_dir,\n",
    "  validation_split=0.1,\n",
    "  subset=\"validation\",\n",
    "  seed=42,\n",
    "  image_size=(img_height, img_width),\n",
    "  batch_size=128)\n",
    "test_ds = tf.keras.preprocessing.image_dataset_from_directory(\n",
    "  test_dir,\n",
    "  seed=42,\n",
    "  image_size=(img_height, img_width),\n",
    "  batch_size=128)"
   ]
  },
  {
   "cell_type": "code",
   "execution_count": null,
   "metadata": {
    "id": "RWuIVO2rEpG_"
   },
   "outputs": [],
   "source": [
    "# Prepare test dataset\n",
    "test_image, test_labels = test_ds.as_numpy_iterator().next()"
   ]
  },
  {
   "cell_type": "code",
   "execution_count": null,
   "metadata": {
    "id": "SRQZ0XyorCuQ"
   },
   "outputs": [],
   "source": [
    "# Configure the dataset for performance when loading data \n",
    "AUTOTUNE = tf.data.AUTOTUNE\n",
    "\n",
    "train_ds = train_ds.cache().shuffle(1000).prefetch(buffer_size=AUTOTUNE)\n",
    "val_ds = val_ds.cache().prefetch(buffer_size=AUTOTUNE)\n",
    "test_ds = test_ds.cache().prefetch(buffer_size=AUTOTUNE)"
   ]
  },
  {
   "cell_type": "code",
   "execution_count": null,
   "metadata": {
    "id": "3HEVr1mArL0F"
   },
   "outputs": [],
   "source": [
    "# Standardise data\n",
    "normalization_layer = tf.keras.layers.experimental.preprocessing.Rescaling(1./255)"
   ]
  },
  {
   "cell_type": "code",
   "execution_count": null,
   "metadata": {
    "id": "vCb8lVINvlMi"
   },
   "outputs": [],
   "source": [
    "# Data Augmentation\n",
    "data_augmentation = tf.keras.Sequential([\n",
    "    tf.keras.layers.experimental.preprocessing.RandomFlip(\"horizontal\", \n",
    "                                                 input_shape=(img_height, img_width,3)),\n",
    "    tf.keras.layers.experimental.preprocessing.RandomRotation(0.2),\n",
    "    tf.keras.layers.experimental.preprocessing.RandomContrast(0.1)\n",
    "    # tf.keras.layers.experimental.preprocessing.RandomZoom(0.05),\n",
    "  ]\n",
    ")"
   ]
  },
  {
   "cell_type": "markdown",
   "metadata": {
    "id": "MqceYG38q5nq"
   },
   "source": [
    "## Simple CNN ##"
   ]
  },
  {
   "cell_type": "code",
   "execution_count": null,
   "metadata": {
    "colab": {
     "base_uri": "https://localhost:8080/",
     "height": 1000
    },
    "id": "CkVr6uiOU6W-",
    "outputId": "96bc3b91-0c5e-4dfb-ffa0-091d342723b1"
   },
   "outputs": [
    {
     "name": "stdout",
     "output_type": "stream",
     "text": [
      "Epoch 1/80\n",
      "37/37 [==============================] - 23s 596ms/step - loss: 4.9294 - binary_accuracy: 0.6740 - val_loss: 3.7030 - val_binary_accuracy: 0.7572\n",
      "Epoch 2/80\n",
      "37/37 [==============================] - 22s 590ms/step - loss: 5.9848 - binary_accuracy: 0.6097 - val_loss: 3.6450 - val_binary_accuracy: 0.7610\n",
      "Epoch 3/80\n",
      "37/37 [==============================] - 22s 588ms/step - loss: 6.9985 - binary_accuracy: 0.5445 - val_loss: 4.5023 - val_binary_accuracy: 0.7055\n",
      "Epoch 4/80\n",
      "37/37 [==============================] - 22s 588ms/step - loss: 6.9353 - binary_accuracy: 0.5487 - val_loss: 3.6741 - val_binary_accuracy: 0.7591\n",
      "Epoch 5/80\n",
      "37/37 [==============================] - 22s 587ms/step - loss: 6.9643 - binary_accuracy: 0.5468 - val_loss: 3.7030 - val_binary_accuracy: 0.7572\n",
      "Epoch 6/80\n",
      "37/37 [==============================] - 22s 587ms/step - loss: 6.9483 - binary_accuracy: 0.5479 - val_loss: 3.7030 - val_binary_accuracy: 0.7572\n",
      "Epoch 7/80\n",
      "37/37 [==============================] - 22s 587ms/step - loss: 6.5943 - binary_accuracy: 0.5706 - val_loss: 3.7030 - val_binary_accuracy: 0.7572\n",
      "Epoch 8/80\n",
      "37/37 [==============================] - 22s 587ms/step - loss: 6.2705 - binary_accuracy: 0.5916 - val_loss: 3.7030 - val_binary_accuracy: 0.7572\n",
      "Epoch 9/80\n",
      "37/37 [==============================] - 22s 586ms/step - loss: 6.2737 - binary_accuracy: 0.5914 - val_loss: 3.7030 - val_binary_accuracy: 0.7572\n",
      "Epoch 10/80\n",
      "37/37 [==============================] - 22s 587ms/step - loss: 6.3451 - binary_accuracy: 0.5867 - val_loss: 3.7030 - val_binary_accuracy: 0.7572\n",
      "Epoch 11/80\n",
      "37/37 [==============================] - 22s 587ms/step - loss: 5.7424 - binary_accuracy: 0.6256 - val_loss: 3.7030 - val_binary_accuracy: 0.7572\n",
      "Epoch 12/80\n",
      "37/37 [==============================] - 22s 588ms/step - loss: 5.1231 - binary_accuracy: 0.6651 - val_loss: 3.7030 - val_binary_accuracy: 0.7572\n",
      "Epoch 13/80\n",
      "37/37 [==============================] - 22s 588ms/step - loss: 4.3943 - binary_accuracy: 0.7125 - val_loss: 7.2878 - val_binary_accuracy: 0.5258\n",
      "Epoch 14/80\n",
      "37/37 [==============================] - 22s 586ms/step - loss: 6.6377 - binary_accuracy: 0.5681 - val_loss: 3.7325 - val_binary_accuracy: 0.7553\n",
      "Epoch 15/80\n",
      "37/37 [==============================] - 22s 588ms/step - loss: 6.9754 - binary_accuracy: 0.5462 - val_loss: 3.8216 - val_binary_accuracy: 0.7495\n",
      "Epoch 16/80\n",
      "37/37 [==============================] - 22s 588ms/step - loss: 6.9389 - binary_accuracy: 0.5485 - val_loss: 4.1176 - val_binary_accuracy: 0.7304\n",
      "Epoch 17/80\n",
      "37/37 [==============================] - 22s 588ms/step - loss: 6.9908 - binary_accuracy: 0.5451 - val_loss: 4.3538 - val_binary_accuracy: 0.7151\n",
      "Epoch 18/80\n",
      "37/37 [==============================] - 22s 587ms/step - loss: 6.8712 - binary_accuracy: 0.5530 - val_loss: 4.3857 - val_binary_accuracy: 0.7132\n",
      "Epoch 19/80\n",
      "37/37 [==============================] - 22s 587ms/step - loss: 6.6241 - binary_accuracy: 0.5687 - val_loss: 3.7623 - val_binary_accuracy: 0.7533\n",
      "Epoch 20/80\n",
      "37/37 [==============================] - 22s 586ms/step - loss: 6.0609 - binary_accuracy: 0.6052 - val_loss: 3.7328 - val_binary_accuracy: 0.7553\n",
      "Epoch 21/80\n",
      "37/37 [==============================] - 22s 588ms/step - loss: 5.9592 - binary_accuracy: 0.6116 - val_loss: 3.7325 - val_binary_accuracy: 0.7553\n",
      "Epoch 22/80\n",
      "37/37 [==============================] - 22s 587ms/step - loss: 4.9453 - binary_accuracy: 0.6770 - val_loss: 3.7325 - val_binary_accuracy: 0.7553\n",
      "Epoch 23/80\n",
      "37/37 [==============================] - 22s 587ms/step - loss: 4.5552 - binary_accuracy: 0.7023 - val_loss: 3.7325 - val_binary_accuracy: 0.7553\n",
      "Epoch 24/80\n",
      "37/37 [==============================] - 22s 587ms/step - loss: 3.9966 - binary_accuracy: 0.7384 - val_loss: 3.7030 - val_binary_accuracy: 0.7572\n",
      "Epoch 25/80\n",
      "37/37 [==============================] - 22s 588ms/step - loss: 3.9160 - binary_accuracy: 0.7435 - val_loss: 3.7030 - val_binary_accuracy: 0.7572\n",
      "Epoch 26/80\n",
      "37/37 [==============================] - 22s 587ms/step - loss: 3.9258 - binary_accuracy: 0.7428 - val_loss: 3.7030 - val_binary_accuracy: 0.7572\n",
      "Epoch 27/80\n",
      "37/37 [==============================] - 22s 588ms/step - loss: 3.8701 - binary_accuracy: 0.7464 - val_loss: 3.7030 - val_binary_accuracy: 0.7572\n",
      "Epoch 28/80\n",
      "37/37 [==============================] - 22s 588ms/step - loss: 3.9093 - binary_accuracy: 0.7439 - val_loss: 3.7030 - val_binary_accuracy: 0.7572\n",
      "Epoch 29/80\n",
      "37/37 [==============================] - 22s 591ms/step - loss: 3.9000 - binary_accuracy: 0.7445 - val_loss: 3.7030 - val_binary_accuracy: 0.7572\n",
      "Epoch 30/80\n",
      "37/37 [==============================] - 22s 588ms/step - loss: 5.2754 - binary_accuracy: 0.6556 - val_loss: 3.9389 - val_binary_accuracy: 0.7419\n",
      "Epoch 31/80\n",
      "37/37 [==============================] - 22s 588ms/step - loss: 6.0968 - binary_accuracy: 0.6029 - val_loss: 3.7325 - val_binary_accuracy: 0.7553\n",
      "Epoch 32/80\n",
      "37/37 [==============================] - 22s 589ms/step - loss: 5.3669 - binary_accuracy: 0.6494 - val_loss: 3.9094 - val_binary_accuracy: 0.7438\n",
      "Epoch 33/80\n",
      "37/37 [==============================] - 22s 587ms/step - loss: 4.4381 - binary_accuracy: 0.7095 - val_loss: 4.0277 - val_binary_accuracy: 0.7361\n",
      "Epoch 34/80\n",
      "37/37 [==============================] - 22s 586ms/step - loss: 4.3368 - binary_accuracy: 0.7161 - val_loss: 4.0277 - val_binary_accuracy: 0.7361\n",
      "Epoch 35/80\n",
      "37/37 [==============================] - 22s 586ms/step - loss: 4.3950 - binary_accuracy: 0.7123 - val_loss: 4.0277 - val_binary_accuracy: 0.7361\n",
      "Epoch 36/80\n",
      "37/37 [==============================] - 22s 587ms/step - loss: 4.3954 - binary_accuracy: 0.7123 - val_loss: 4.0277 - val_binary_accuracy: 0.7361\n",
      "Epoch 37/80\n",
      "37/37 [==============================] - 22s 588ms/step - loss: 4.4122 - binary_accuracy: 0.7110 - val_loss: 4.0277 - val_binary_accuracy: 0.7361\n",
      "Epoch 38/80\n",
      "37/37 [==============================] - 22s 588ms/step - loss: 4.5296 - binary_accuracy: 0.7038 - val_loss: 4.0277 - val_binary_accuracy: 0.7361\n",
      "Epoch 39/80\n",
      "37/37 [==============================] - 22s 587ms/step - loss: 4.5648 - binary_accuracy: 0.7014 - val_loss: 4.0277 - val_binary_accuracy: 0.7361\n",
      "Epoch 40/80\n",
      "37/37 [==============================] - 22s 587ms/step - loss: 4.5846 - binary_accuracy: 0.7001 - val_loss: 4.0277 - val_binary_accuracy: 0.7361\n",
      "Epoch 41/80\n",
      "37/37 [==============================] - 22s 587ms/step - loss: 4.6116 - binary_accuracy: 0.6984 - val_loss: 4.0277 - val_binary_accuracy: 0.7361\n",
      "Epoch 42/80\n",
      "37/37 [==============================] - 22s 589ms/step - loss: 4.7057 - binary_accuracy: 0.6923 - val_loss: 4.0277 - val_binary_accuracy: 0.7361\n",
      "Epoch 43/80\n",
      "37/37 [==============================] - 22s 587ms/step - loss: 4.5881 - binary_accuracy: 0.6999 - val_loss: 4.0569 - val_binary_accuracy: 0.7342\n",
      "Epoch 44/80\n",
      "37/37 [==============================] - 22s 588ms/step - loss: 4.5326 - binary_accuracy: 0.7031 - val_loss: 7.3331 - val_binary_accuracy: 0.5239\n",
      "Epoch 45/80\n",
      "37/37 [==============================] - 22s 588ms/step - loss: 4.4731 - binary_accuracy: 0.7069 - val_loss: 5.0997 - val_binary_accuracy: 0.6673\n",
      "Epoch 46/80\n",
      "37/37 [==============================] - 22s 586ms/step - loss: 4.1440 - binary_accuracy: 0.7284 - val_loss: 4.3562 - val_binary_accuracy: 0.7151\n",
      "Epoch 47/80\n",
      "37/37 [==============================] - 22s 586ms/step - loss: 4.0917 - binary_accuracy: 0.7318 - val_loss: 4.0602 - val_binary_accuracy: 0.7342\n",
      "Epoch 48/80\n",
      "37/37 [==============================] - 22s 587ms/step - loss: 4.0852 - binary_accuracy: 0.7322 - val_loss: 9.4960 - val_binary_accuracy: 0.3824\n",
      "Epoch 49/80\n",
      "37/37 [==============================] - 22s 585ms/step - loss: 4.0164 - binary_accuracy: 0.7367 - val_loss: 3.7328 - val_binary_accuracy: 0.7553\n",
      "Epoch 50/80\n",
      "37/37 [==============================] - 22s 586ms/step - loss: 3.9573 - binary_accuracy: 0.7405 - val_loss: 3.7033 - val_binary_accuracy: 0.7572\n",
      "Epoch 00050: early stopping\n"
     ]
    },
    {
     "data": {
      "text/plain": [
       "Text(0.5, 1.0, 'Training and Validation Accuracy')"
      ]
     },
     "execution_count": 14,
     "metadata": {
      "tags": []
     },
     "output_type": "execute_result"
    },
    {
     "data": {
      "image/png": "[encoded data removed]",
      "text/plain": [
       "<Figure size 576x576 with 1 Axes>"
      ]
     },
     "metadata": {
      "needs_background": "light",
      "tags": []
     },
     "output_type": "display_data"
    }
   ],
   "source": [
    "# Try Simple CNN model as baseline\n",
    "inputs = tf.keras.Input(shape=(img_height, img_width,3)) \n",
    "x = data_augmentation(inputs)\n",
    "x = normalization_layer(x)\n",
    "\n",
    "x = tf.keras.layers.Conv2D(16, 3, padding='same', activation='relu' )(x)\n",
    "x = tf.keras.layers.Conv2D(16, 3, padding='same', activation='relu' )(x)\n",
    "                           # ,kernel_regularizer=tf.keras.regularizers.L2(0.00001))(x)\n",
    "x = tf.keras.layers.MaxPooling2D()(x)\n",
    "x = tf.keras.layers.BatchNormalization()(x)\n",
    "\n",
    "x = tf.keras.layers.Conv2D(64, 3, padding='same', activation='relu' )(x)\n",
    "x = tf.keras.layers.Conv2D(64, 3, padding='same', activation='relu' )(x)\n",
    "                           # ,kernel_regularizer=tf.keras.regularizers.L2(0.01))(x)\n",
    "x = tf.keras.layers.MaxPooling2D()(x)\n",
    "x = tf.keras.layers.BatchNormalization()(x)\n",
    "\n",
    "x = tf.keras.layers.Flatten()(x)\n",
    "x = tf.keras.layers.Dense(128, activation='relu')(x)\n",
    "outputs = tf.keras.layers.Dense(1)(x)\n",
    "model = tf.keras.models.Model(inputs, outputs)\n",
    "\n",
    "model.compile(loss='binary_crossentropy', optimizer=tf.keras.optimizers.Adam(learning_rate=0.001), metrics=['binary_accuracy'])\n",
    "early=tf.keras.callbacks.EarlyStopping(monitor='loss', mode='min', min_delta=0.001, patience=50, verbose=1, baseline=0.50)\n",
    "history = model.fit(train_ds, batch_size = 256, epochs= 80, verbose=1, callbacks=[early], \n",
    "            validation_data = val_ds)\n",
    "\t\n",
    "acc = history.history['binary_accuracy']\n",
    "val_acc = history.history['val_binary_accuracy']\n",
    "\n",
    "loss = history.history['loss']\n",
    "val_loss = history.history['val_loss']\n",
    "\n",
    "plt.figure(figsize=(8, 8))\n",
    "plt.subplot(2, 1, 1)\n",
    "plt.plot(acc, label='Training Accuracy')\n",
    "plt.plot(val_acc, label='Validation Accuracy')\n",
    "plt.legend(loc='lower right')\n",
    "plt.ylabel('Accuracy')\n",
    "plt.ylim([min(plt.ylim()),1])\n",
    "plt.title('Training and Validation Accuracy')\n"
   ]
  },
  {
   "cell_type": "code",
   "execution_count": null,
   "metadata": {
    "colab": {
     "base_uri": "https://localhost:8080/"
    },
    "id": "58p9C0cKMdjM",
    "outputId": "ea5a21ea-43ca-489c-8d39-74fb2f1e9dc7"
   },
   "outputs": [
    {
     "name": "stdout",
     "output_type": "stream",
     "text": [
      "CNN MODEL\n",
      "Accuracy : 0.59375\n",
      "Precision :  0.0\n",
      "When the model predicts that a person has pnuemonia, 0.0% of time it is correct\n",
      "Recall :  nan\n",
      "nan% of pnuemonia detected\n"
     ]
    },
    {
     "name": "stderr",
     "output_type": "stream",
     "text": [
      "/usr/local/lib/python3.7/dist-packages/ipykernel_launcher.py:19: RuntimeWarning: invalid value encountered in int_scalars\n"
     ]
    }
   ],
   "source": [
    "# Evalation\n",
    "\n",
    "print('CNN MODEL')\n",
    "predictions = model.predict_on_batch(test_image).flatten()\n",
    "\n",
    "# Apply a sigmoid since our model returns logits\n",
    "predictions = tf.nn.sigmoid(predictions)\n",
    "predictions = tf.where(predictions < 0.5, 0, 1).numpy()\n",
    "\n",
    "acc = (predictions ==  test_labels )\n",
    "print('Accuracy :' ,sum(acc)/len(acc))\n",
    "\n",
    "confusionMatrix = tf.math.confusion_matrix(\n",
    "     test_labels , predictions, num_classes=2\n",
    ").numpy()\n",
    "\n",
    "# False Negatives = ppl who has pneunomia are predicted as pneunomia free\n",
    "precision = confusionMatrix[0][0]/(confusionMatrix[0][0]+confusionMatrix[0][1]) #tp/tp+fp\n",
    "recall = confusionMatrix[0][0]/(confusionMatrix[0][0] + confusionMatrix[1][0]) # tp/tp+fn\n",
    "\n",
    "print('Precision : ', precision)\n",
    "print(f'When the model predicts that a person has pnuemonia, {precision}% of time it is correct')\n",
    "print('Recall : ', recall )\n",
    "print(f'{recall}% of pnuemonia detected')"
   ]
  },
  {
   "cell_type": "markdown",
   "metadata": {
    "id": "CYQZF6VmrDGV"
   },
   "source": [
    "## Transfer Learning ##"
   ]
  },
  {
   "cell_type": "code",
   "execution_count": null,
   "metadata": {
    "colab": {
     "base_uri": "https://localhost:8080/"
    },
    "id": "fzYzpIl5rcnj",
    "outputId": "50f3ec9c-e8c4-4190-a3c1-63248db9af8d"
   },
   "outputs": [
    {
     "name": "stdout",
     "output_type": "stream",
     "text": [
      "Downloading data from https://storage.googleapis.com/tensorflow/keras-applications/resnet/resnet50_weights_tf_dim_ordering_tf_kernels_notop.h5\n",
      "94773248/94765736 [==============================] - 2s 0us/step\n"
     ]
    }
   ],
   "source": [
    "# Preprocessing for pretrained model\n",
    "preprocess_input = tf.keras.applications.resnet.preprocess_input\n",
    "rescale = tf.keras.layers.experimental.preprocessing.Rescaling(1./127.5, offset= -1)\n",
    "IMG_SHAPE = (224, 224) + (3,)\n",
    "base_model = tf.keras.applications.ResNet50(input_shape=IMG_SHAPE,\n",
    "                                               include_top=False,\n",
    "                                               weights='imagenet')\n",
    "base_model.trainable = False"
   ]
  },
  {
   "cell_type": "code",
   "execution_count": null,
   "metadata": {
    "id": "dsg94ehbsDaH"
   },
   "outputs": [],
   "source": [
    "# Transfer Learning Model\n",
    "inputs = tf.keras.Input(shape=(224, 224, 3))\n",
    "x = data_augmentation(inputs)\n",
    "x = preprocess_input(x)\n",
    "x = base_model(x, training=False)\n",
    "x =  tf.keras.layers.GlobalAveragePooling2D()(x)\n",
    "x = tf.keras.layers.Dense(256, activation = 'relu')(x)\n",
    "x = tf.keras.layers.BatchNormalization()(x)\n",
    "x = tf.keras.layers.Dense(128, activation = 'relu')(x)\n",
    "x = tf.keras.layers.BatchNormalization()(x)\n",
    "x = tf.keras.layers.Dense(64, activation = 'relu')(x)\n",
    "x = tf.keras.layers.BatchNormalization()(x)\n",
    "outputs = tf.keras.layers.Dense(1)(x)\n",
    "x = tf.keras.layers.BatchNormalization()(x)\n",
    "transfer_model = tf.keras.Model(inputs, outputs)"
   ]
  },
  {
   "cell_type": "code",
   "execution_count": null,
   "metadata": {
    "id": "oc8F6JaQsFWm"
   },
   "outputs": [],
   "source": [
    "base_learning_rate = 0.0001\n",
    "transfer_model.compile(optimizer=tf.keras.optimizers.Adam(learning_rate=base_learning_rate),\n",
    "              loss=tf.keras.losses.BinaryCrossentropy(from_logits=True),\n",
    "              metrics=['accuracy'])"
   ]
  },
  {
   "cell_type": "code",
   "execution_count": null,
   "metadata": {
    "colab": {
     "base_uri": "https://localhost:8080/"
    },
    "id": "gwXPnDgWsMQs",
    "outputId": "4795922c-85e8-4b6f-d551-ae1c2f7016b7"
   },
   "outputs": [
    {
     "name": "stdout",
     "output_type": "stream",
     "text": [
      "5/5 [==============================] - 1s 148ms/step - loss: 3.7033 - binary_accuracy: 0.7572\n"
     ]
    }
   ],
   "source": [
    "# Pre trained model without fine tuning\n",
    "loss0, accuracy0 = model.evaluate(val_ds)"
   ]
  },
  {
   "cell_type": "code",
   "execution_count": null,
   "metadata": {
    "colab": {
     "base_uri": "https://localhost:8080/"
    },
    "id": "FAFjA2YPsOiQ",
    "outputId": "a79f0a9c-148f-4d18-e043-686d3a253db9"
   },
   "outputs": [
    {
     "name": "stdout",
     "output_type": "stream",
     "text": [
      "Epoch 1/20\n",
      "37/37 [==============================] - 47s 1s/step - loss: 0.4558 - accuracy: 0.7123 - val_loss: 0.8933 - val_accuracy: 0.2524\n",
      "Epoch 2/20\n",
      "37/37 [==============================] - 35s 943ms/step - loss: 0.2677 - accuracy: 0.8713 - val_loss: 0.5800 - val_accuracy: 0.5545\n",
      "Epoch 3/20\n",
      "37/37 [==============================] - 35s 942ms/step - loss: 0.2140 - accuracy: 0.9216 - val_loss: 0.4471 - val_accuracy: 0.7476\n",
      "Epoch 4/20\n",
      "37/37 [==============================] - 35s 942ms/step - loss: 0.1773 - accuracy: 0.9393 - val_loss: 0.3278 - val_accuracy: 0.8413\n",
      "Epoch 5/20\n",
      "37/37 [==============================] - 35s 941ms/step - loss: 0.1491 - accuracy: 0.9520 - val_loss: 0.2108 - val_accuracy: 0.9159\n",
      "Epoch 6/20\n",
      "37/37 [==============================] - 35s 939ms/step - loss: 0.1302 - accuracy: 0.9584 - val_loss: 0.1789 - val_accuracy: 0.9446\n",
      "Epoch 7/20\n",
      "37/37 [==============================] - 35s 941ms/step - loss: 0.1226 - accuracy: 0.9647 - val_loss: 0.1601 - val_accuracy: 0.9484\n",
      "Epoch 8/20\n",
      "37/37 [==============================] - 35s 940ms/step - loss: 0.1143 - accuracy: 0.9664 - val_loss: 0.1822 - val_accuracy: 0.9331\n",
      "Epoch 9/20\n",
      "37/37 [==============================] - 35s 941ms/step - loss: 0.0985 - accuracy: 0.9711 - val_loss: 0.1852 - val_accuracy: 0.9312\n",
      "Epoch 10/20\n",
      "37/37 [==============================] - 35s 942ms/step - loss: 0.0960 - accuracy: 0.9709 - val_loss: 0.2262 - val_accuracy: 0.9197\n",
      "Epoch 11/20\n",
      "37/37 [==============================] - 35s 940ms/step - loss: 0.0829 - accuracy: 0.9747 - val_loss: 0.1903 - val_accuracy: 0.9293\n",
      "Epoch 12/20\n",
      "37/37 [==============================] - 35s 940ms/step - loss: 0.0815 - accuracy: 0.9764 - val_loss: 0.2154 - val_accuracy: 0.9312\n",
      "Epoch 13/20\n",
      "37/37 [==============================] - 35s 940ms/step - loss: 0.0821 - accuracy: 0.9754 - val_loss: 0.1416 - val_accuracy: 0.9560\n",
      "Epoch 14/20\n",
      "37/37 [==============================] - 35s 941ms/step - loss: 0.0734 - accuracy: 0.9773 - val_loss: 0.1057 - val_accuracy: 0.9694\n",
      "Epoch 15/20\n",
      "37/37 [==============================] - 35s 941ms/step - loss: 0.0691 - accuracy: 0.9800 - val_loss: 0.1369 - val_accuracy: 0.9541\n",
      "Epoch 16/20\n",
      "37/37 [==============================] - 35s 941ms/step - loss: 0.0696 - accuracy: 0.9809 - val_loss: 0.0925 - val_accuracy: 0.9675\n",
      "Epoch 17/20\n",
      "37/37 [==============================] - 35s 941ms/step - loss: 0.0633 - accuracy: 0.9809 - val_loss: 0.0903 - val_accuracy: 0.9713\n",
      "Epoch 18/20\n",
      "37/37 [==============================] - 35s 940ms/step - loss: 0.0623 - accuracy: 0.9824 - val_loss: 0.2331 - val_accuracy: 0.9216\n",
      "Epoch 19/20\n",
      "37/37 [==============================] - 35s 940ms/step - loss: 0.0554 - accuracy: 0.9809 - val_loss: 0.1641 - val_accuracy: 0.9465\n",
      "Epoch 20/20\n",
      "37/37 [==============================] - 35s 940ms/step - loss: 0.0593 - accuracy: 0.9832 - val_loss: 0.1706 - val_accuracy: 0.9503\n"
     ]
    }
   ],
   "source": [
    "# Fine Tuning\n",
    "initial_epochs = 20\n",
    "history = transfer_model.fit(train_ds, batch_size=256,\n",
    "                    epochs=initial_epochs,\n",
    "                    validation_data=val_ds)"
   ]
  },
  {
   "cell_type": "code",
   "execution_count": null,
   "metadata": {
    "colab": {
     "base_uri": "https://localhost:8080/",
     "height": 279
    },
    "id": "wXk22JpesQyw",
    "outputId": "876bc61d-dd00-42b5-bf91-33ccfcbf6d1c"
   },
   "outputs": [
    {
     "data": {
      "text/plain": [
       "Text(0.5, 1.0, 'Training and Validation Accuracy')"
      ]
     },
     "execution_count": 22,
     "metadata": {
      "tags": []
     },
     "output_type": "execute_result"
    },
    {
     "data": {
      "image/png": "[encoded data removed]",
      "text/plain": [
       "<Figure size 576x576 with 1 Axes>"
      ]
     },
     "metadata": {
      "needs_background": "light",
      "tags": []
     },
     "output_type": "display_data"
    }
   ],
   "source": [
    "# Training Statistics\n",
    "acc = history.history['accuracy']\n",
    "val_acc = history.history['val_accuracy']\n",
    "\n",
    "loss = history.history['loss']\n",
    "val_loss = history.history['val_loss']\n",
    "\n",
    "plt.figure(figsize=(8, 8))\n",
    "plt.subplot(2, 1, 1)\n",
    "plt.plot(acc, label='Training Accuracy')\n",
    "plt.plot(val_acc, label='Validation Accuracy')\n",
    "plt.legend(loc='lower right')\n",
    "plt.ylabel('Accuracy')\n",
    "plt.ylim([min(plt.ylim()),1])\n",
    "plt.title('Training and Validation Accuracy')\n"
   ]
  },
  {
   "cell_type": "code",
   "execution_count": null,
   "metadata": {
    "colab": {
     "base_uri": "https://localhost:8080/"
    },
    "id": "sUCjxwbt-2ly",
    "outputId": "367a8c5b-34ba-41c7-bf9a-f2995b523c6e"
   },
   "outputs": [
    {
     "name": "stdout",
     "output_type": "stream",
     "text": [
      "Accuracy : 0.8828125\n",
      "[[40 12]\n",
      " [ 3 73]]\n",
      "Precision :  0.7692307692307693\n",
      "When the model predicts that a person has pnuemonia, 0.7692307692307693% of time it is correct\n",
      "Recall :  0.9302325581395349\n",
      "0.9302325581395349% of pnuemonia detected\n"
     ]
    }
   ],
   "source": [
    "# Evalation\n",
    "\n",
    "predictions = transfer_model.predict_on_batch(test_image).flatten()\n",
    "\n",
    "# Apply a sigmoid since our model returns logits\n",
    "predictions = tf.nn.sigmoid(predictions)\n",
    "predictions = tf.where(predictions < 0.5, 0, 1).numpy()\n",
    "\n",
    "acc = (predictions ==  test_labels )\n",
    "print('Accuracy :' ,sum(acc)/len(acc))\n",
    "\n",
    "confusionMatrix = tf.math.confusion_matrix(\n",
    "     test_labels , predictions, num_classes=2\n",
    ").numpy()\n",
    "print(confusionMatrix)\n",
    "# False Negatives = ppl who has pneunomia are predicted as pneunomia free\n",
    "precision = confusionMatrix[0][0]/(confusionMatrix[0][0]+confusionMatrix[0][1]) #tp/tp+fp\n",
    "recall = confusionMatrix[0][0]/(confusionMatrix[0][0] + confusionMatrix[1][0]) # tp/tp+fn\n",
    "\n",
    "print('Precision : ', precision)\n",
    "print(f'When the model predicts that a person has pnuemonia, {precision}% of time it is correct')\n",
    "print('Recall : ', recall )\n",
    "print(f'{recall}% of pnuemonia detected')"
   ]
  },
  {
   "cell_type": "code",
   "execution_count": null,
   "metadata": {
    "colab": {
     "base_uri": "https://localhost:8080/"
    },
    "id": "xrZoNW0jcYer",
    "outputId": "c80f8595-ed60-4433-e1f9-1584356b6327"
   },
   "outputs": [
    {
     "name": "stderr",
     "output_type": "stream",
     "text": [
      "/usr/local/lib/python3.7/dist-packages/tensorflow/python/keras/utils/generic_utils.py:497: CustomMaskWarning: Custom mask layers require a config and must override get_config. When loading, the custom mask layer must be passed to the custom_objects argument.\n",
      "  category=CustomMaskWarning)\n"
     ]
    }
   ],
   "source": [
    "transfer_model.save('resnet50_xray.h5')\n",
    "transfer_model.save_weights('resnet50_xray_test88%')"
   ]
  },
  {
   "cell_type": "markdown",
   "metadata": {
    "id": "H2c4OTGKTmbN"
   },
   "source": []
  }
 ],
 "metadata": {
  "accelerator": "GPU",
  "colab": {
   "collapsed_sections": [],
   "name": "CNN.ipynb",
   "provenance": []
  },
  "kernelspec": {
   "display_name": "Python 3",
   "language": "python",
   "name": "python3"
  },
  "language_info": {
   "codemirror_mode": {
    "name": "ipython",
    "version": 3
   },
   "file_extension": ".py",
   "mimetype": "text/x-python",
   "name": "python",
   "nbconvert_exporter": "python",
   "pygments_lexer": "ipython3",
   "version": "3.8.8"
  }
 },
 "nbformat": 4,
 "nbformat_minor": 1
}
